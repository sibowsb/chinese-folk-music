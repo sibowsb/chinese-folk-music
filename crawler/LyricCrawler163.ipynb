{
 "cells": [
  {
   "cell_type": "markdown",
   "metadata": {},
   "source": [
    "# Lyric Crawler from `music.163.com`\n",
    "\n",
    "This is the first attempt of gathering lyric data. We will start from NetEase Cloud Music and see how it goes. \n",
    "\n",
    "## Prerequisites\n",
    "- Selenium Python binding\n",
    "  - `pip install selenium` does the job\n",
    "- Chrome Webdriver\n",
    "  - Download from [here](https://sites.google.com/a/chromium.org/chromedriver/downloads) and copy the binary file to somewhere in `$PATH`\n",
    "\n",
    "## Copyright Notice\n",
    "The lyrics that appear in this notebook are not licensed under the GNU General Public License. All copyrights are reserved by the original artist, which is indicated in comments accordingly.\n",
    "\n",
    "本文件中所出现的所有歌词不适用于本 repository 的 GNU General Public License 授权协议。歌词版权归原始作者所有。原始作者在本文件相应位置以注释的形式标注。"
   ]
  },
  {
   "cell_type": "code",
   "execution_count": 1,
   "metadata": {},
   "outputs": [],
   "source": [
    "from selenium import webdriver\n",
    "from urllib.request import urlopen\n",
    "from re import findall"
   ]
  },
  {
   "cell_type": "markdown",
   "metadata": {},
   "source": [
    "## Indexing song info from artist page\n",
    "\n",
    "### Scratch"
   ]
  },
  {
   "cell_type": "code",
   "execution_count": 2,
   "metadata": {},
   "outputs": [],
   "source": [
    "artist_page_url = 'http://music.163.com/#/artist?id=2111'   # 崔健"
   ]
  },
  {
   "cell_type": "code",
   "execution_count": 3,
   "metadata": {},
   "outputs": [
    {
     "name": "stdout",
     "output_type": "stream",
     "text": [
      "2\n"
     ]
    }
   ],
   "source": [
    "driver = webdriver.Chrome()\n",
    "driver.get(artist_page_url)\n",
    "frames = driver.find_elements_by_tag_name('iframe')\n",
    "print(len(frames))"
   ]
  },
  {
   "cell_type": "code",
   "execution_count": 4,
   "metadata": {},
   "outputs": [],
   "source": [
    "driver.switch_to_frame(frames[0])\n",
    "table_xpath = '/html/body/div/div/div/div/div/div/div/div/div/table'\n",
    "table = driver.find_element_by_xpath(table_xpath)"
   ]
  },
  {
   "cell_type": "code",
   "execution_count": 5,
   "metadata": {},
   "outputs": [],
   "source": [
    "row_xpath = '/html/body/div/div/div/div/div/div/div/div/div/table/tbody/tr'\n",
    "rows = table.find_elements_by_xpath(row_xpath)"
   ]
  },
  {
   "cell_type": "code",
   "execution_count": 6,
   "metadata": {},
   "outputs": [],
   "source": [
    "songs = []\n",
    "for row in rows:\n",
    "    href_xpath = 'td/div/div/div/span/a'\n",
    "    href = row.find_element_by_xpath(href_xpath)\n",
    "    title_xpath = 'b'\n",
    "    title = href.find_element_by_xpath(title_xpath)\n",
    "    link = href.get_attribute('href')\n",
    "    name = title.get_attribute('title')\n",
    "    song_id = findall('.*id=(\\d*).*', link)[0]\n",
    "    songs.append((name, link, song_id))"
   ]
  },
  {
   "cell_type": "code",
   "execution_count": 7,
   "metadata": {
    "scrolled": true
   },
   "outputs": [
    {
     "data": {
      "text/plain": [
       "[('花房姑娘', 'http://music.163.com/song?id=63692', '63692'),\n",
       " ('假行僧', 'http://music.163.com/song?id=63612', '63612'),\n",
       " ('新长征路上的摇滚', 'http://music.163.com/song?id=63628', '63628'),\n",
       " ('一块红布', 'http://music.163.com/song?id=63627', '63627'),\n",
       " ('一无所有', 'http://music.163.com/song?id=63677', '63677'),\n",
       " ('快让我在雪地上撒点野', 'http://music.163.com/song?id=26172016', '26172016'),\n",
       " ('是否', 'http://music.163.com/song?id=63795', '63795'),\n",
       " ('从头再来', 'http://music.163.com/song?id=63683', '63683'),\n",
       " ('快让我在这雪地上撒点野', 'http://music.163.com/song?id=63624', '63624'),\n",
       " ('让世界充满爱-幸福平安(童声合唱)', 'http://music.163.com/song?id=5285232', '5285232'),\n",
       " ('草帽歌 - (日本电影《人证》插曲)', 'http://music.163.com/song?id=63791', '63791'),\n",
       " ('蓝色的骨头\\xa0(Live)', 'http://music.163.com/song?id=499957703', '499957703'),\n",
       " ('生活', 'http://music.163.com/song?id=63736', '63736'),\n",
       " ('不再掩饰', 'http://music.163.com/song?id=63686', '63686'),\n",
       " ('飞了', 'http://music.163.com/song?id=63611', '63611'),\n",
       " ('浪子归', 'http://music.163.com/song?id=63747', '63747'),\n",
       " ('让世界充满爱-走向明天', 'http://music.163.com/song?id=5285227', '5285227'),\n",
       " ('宽容', 'http://music.163.com/song?id=63626', '63626'),\n",
       " ('不是我不明白', 'http://music.163.com/song?id=63622', '63622'),\n",
       " ('鱼鸟之恋', 'http://music.163.com/song?id=399342704', '399342704'),\n",
       " ('死不回头', 'http://music.163.com/song?id=399342703', '399342703'),\n",
       " ('解决', 'http://music.163.com/song?id=63609', '63609'),\n",
       " ('让我睡个好觉', 'http://music.163.com/song?id=63695', '63695'),\n",
       " ('让世界充满爱-永不分离', 'http://music.163.com/song?id=5285229', '5285229'),\n",
       " ('光冻', 'http://music.163.com/song?id=399342702', '399342702'),\n",
       " ('让世界充满爱-序曲', 'http://music.163.com/song?id=5285226', '5285226'),\n",
       " ('农村包围城市\\xa0(Live)', 'http://music.163.com/song?id=499957704', '499957704'),\n",
       " ('出走', 'http://music.163.com/song?id=63698', '63698'),\n",
       " ('这儿的空间', 'http://music.163.com/song?id=63616', '63616'),\n",
       " ('阳光下的梦', 'http://music.163.com/song?id=399343722', '399343722'),\n",
       " ('在远方', 'http://music.163.com/song?id=63750', '63750'),\n",
       " ('外面的妞', 'http://music.163.com/song?id=399342705', '399342705'),\n",
       " ('世界的末日', 'http://music.163.com/song?id=63785', '63785'),\n",
       " ('金色早晨', 'http://music.163.com/song?id=399342706', '399342706'),\n",
       " ('滚动的蛋', 'http://music.163.com/song?id=399343721', '399343721'),\n",
       " ('浑水湖漫步', 'http://music.163.com/song?id=399342707', '399342707'),\n",
       " ('酷瓜树', 'http://music.163.com/song?id=399343720', '399343720'),\n",
       " ('流浪的歌手', 'http://music.163.com/song?id=63733', '63733'),\n",
       " ('谁、谁、谁', 'http://music.163.com/song?id=63767', '63767'),\n",
       " ('梦中的倾诉', 'http://music.163.com/song?id=63770', '63770'),\n",
       " ('分手的时候', 'http://music.163.com/song?id=63741', '63741'),\n",
       " ('生活不能没有你', 'http://music.163.com/song?id=63788', '63788'),\n",
       " ('美人计', 'http://music.163.com/song?id=29718879', '29718879'),\n",
       " ('拿错的雨伞', 'http://music.163.com/song?id=63739', '63739'),\n",
       " ('为什么', 'http://music.163.com/song?id=63756', '63756'),\n",
       " ('你的眼泪是我的伤心', 'http://music.163.com/song?id=5236529', '5236529'),\n",
       " ('你不要走', 'http://music.163.com/song?id=63744', '63744'),\n",
       " ('雪花飘', 'http://music.163.com/song?id=63773', '63773'),\n",
       " ('艰难行', 'http://music.163.com/song?id=63776', '63776'),\n",
       " ('星光满天', 'http://music.163.com/song?id=63782', '63782')]"
      ]
     },
     "execution_count": 7,
     "metadata": {},
     "output_type": "execute_result"
    }
   ],
   "source": [
    "songs"
   ]
  },
  {
   "cell_type": "code",
   "execution_count": 8,
   "metadata": {},
   "outputs": [],
   "source": [
    "driver.close()"
   ]
  },
  {
   "cell_type": "markdown",
   "metadata": {},
   "source": [
    "### Refactored code"
   ]
  },
  {
   "cell_type": "code",
   "execution_count": 9,
   "metadata": {},
   "outputs": [],
   "source": [
    "def index_artist(artist_id, driver=None, url_fmt=None):\n",
    "    to_close = False\n",
    "    if driver is None:\n",
    "        to_close = True\n",
    "        driver = webdriver.Chrome()\n",
    "    if url_fmt is None:\n",
    "        url_fmt = 'http://music.163.com/#/artist?id={artist_id}'\n",
    "    url = url_fmt.format(artist_id=artist_id)\n",
    "    \n",
    "    driver.get(url)\n",
    "    frames = driver.find_elements_by_tag_name('iframe')\n",
    "    assert len(frames) == 2\n",
    "    driver.switch_to_frame(frames[0])\n",
    "    \n",
    "    table_xpath = '/html/body/div/div/div/div/div/div/div/div/div/table'\n",
    "    table = driver.find_element_by_xpath(table_xpath)\n",
    "    row_xpath = '/html/body/div/div/div/div/div/div/div/div/div/table/tbody/tr'\n",
    "    rows = table.find_elements_by_xpath(row_xpath)\n",
    "    \n",
    "    songs = []\n",
    "    for row in rows:\n",
    "        href_xpath = 'td/div/div/div/span/a'\n",
    "        href = row.find_element_by_xpath(href_xpath)\n",
    "        title_xpath = 'b'\n",
    "        title = href.find_element_by_xpath(title_xpath)\n",
    "        link = href.get_attribute('href')\n",
    "        name = title.get_attribute('title')\n",
    "        song_id = findall('.*id=(\\d*).*', link)[0]\n",
    "        songs.append({'name': name, 'link': link, 'song_id': song_id})\n",
    "    \n",
    "    if to_close:\n",
    "        driver.close()\n",
    "    return songs"
   ]
  },
  {
   "cell_type": "code",
   "execution_count": 10,
   "metadata": {},
   "outputs": [
    {
     "data": {
      "text/plain": [
       "[{'link': 'http://music.163.com/song?id=63692',\n",
       "  'name': '花房姑娘',\n",
       "  'song_id': '63692'},\n",
       " {'link': 'http://music.163.com/song?id=63612',\n",
       "  'name': '假行僧',\n",
       "  'song_id': '63612'},\n",
       " {'link': 'http://music.163.com/song?id=63628',\n",
       "  'name': '新长征路上的摇滚',\n",
       "  'song_id': '63628'},\n",
       " {'link': 'http://music.163.com/song?id=63627',\n",
       "  'name': '一块红布',\n",
       "  'song_id': '63627'},\n",
       " {'link': 'http://music.163.com/song?id=63677',\n",
       "  'name': '一无所有',\n",
       "  'song_id': '63677'},\n",
       " {'link': 'http://music.163.com/song?id=26172016',\n",
       "  'name': '快让我在雪地上撒点野',\n",
       "  'song_id': '26172016'},\n",
       " {'link': 'http://music.163.com/song?id=63795',\n",
       "  'name': '是否',\n",
       "  'song_id': '63795'},\n",
       " {'link': 'http://music.163.com/song?id=63683',\n",
       "  'name': '从头再来',\n",
       "  'song_id': '63683'},\n",
       " {'link': 'http://music.163.com/song?id=63624',\n",
       "  'name': '快让我在这雪地上撒点野',\n",
       "  'song_id': '63624'},\n",
       " {'link': 'http://music.163.com/song?id=5285232',\n",
       "  'name': '让世界充满爱-幸福平安(童声合唱)',\n",
       "  'song_id': '5285232'},\n",
       " {'link': 'http://music.163.com/song?id=63791',\n",
       "  'name': '草帽歌 - (日本电影《人证》插曲)',\n",
       "  'song_id': '63791'},\n",
       " {'link': 'http://music.163.com/song?id=499957703',\n",
       "  'name': '蓝色的骨头\\xa0(Live)',\n",
       "  'song_id': '499957703'},\n",
       " {'link': 'http://music.163.com/song?id=63736',\n",
       "  'name': '生活',\n",
       "  'song_id': '63736'},\n",
       " {'link': 'http://music.163.com/song?id=63686',\n",
       "  'name': '不再掩饰',\n",
       "  'song_id': '63686'},\n",
       " {'link': 'http://music.163.com/song?id=63611',\n",
       "  'name': '飞了',\n",
       "  'song_id': '63611'},\n",
       " {'link': 'http://music.163.com/song?id=63747',\n",
       "  'name': '浪子归',\n",
       "  'song_id': '63747'},\n",
       " {'link': 'http://music.163.com/song?id=5285227',\n",
       "  'name': '让世界充满爱-走向明天',\n",
       "  'song_id': '5285227'},\n",
       " {'link': 'http://music.163.com/song?id=63626',\n",
       "  'name': '宽容',\n",
       "  'song_id': '63626'},\n",
       " {'link': 'http://music.163.com/song?id=63622',\n",
       "  'name': '不是我不明白',\n",
       "  'song_id': '63622'},\n",
       " {'link': 'http://music.163.com/song?id=399342704',\n",
       "  'name': '鱼鸟之恋',\n",
       "  'song_id': '399342704'},\n",
       " {'link': 'http://music.163.com/song?id=399342703',\n",
       "  'name': '死不回头',\n",
       "  'song_id': '399342703'},\n",
       " {'link': 'http://music.163.com/song?id=63609',\n",
       "  'name': '解决',\n",
       "  'song_id': '63609'},\n",
       " {'link': 'http://music.163.com/song?id=63695',\n",
       "  'name': '让我睡个好觉',\n",
       "  'song_id': '63695'},\n",
       " {'link': 'http://music.163.com/song?id=5285229',\n",
       "  'name': '让世界充满爱-永不分离',\n",
       "  'song_id': '5285229'},\n",
       " {'link': 'http://music.163.com/song?id=399342702',\n",
       "  'name': '光冻',\n",
       "  'song_id': '399342702'},\n",
       " {'link': 'http://music.163.com/song?id=5285226',\n",
       "  'name': '让世界充满爱-序曲',\n",
       "  'song_id': '5285226'},\n",
       " {'link': 'http://music.163.com/song?id=499957704',\n",
       "  'name': '农村包围城市\\xa0(Live)',\n",
       "  'song_id': '499957704'},\n",
       " {'link': 'http://music.163.com/song?id=63698',\n",
       "  'name': '出走',\n",
       "  'song_id': '63698'},\n",
       " {'link': 'http://music.163.com/song?id=63616',\n",
       "  'name': '这儿的空间',\n",
       "  'song_id': '63616'},\n",
       " {'link': 'http://music.163.com/song?id=399343722',\n",
       "  'name': '阳光下的梦',\n",
       "  'song_id': '399343722'},\n",
       " {'link': 'http://music.163.com/song?id=63750',\n",
       "  'name': '在远方',\n",
       "  'song_id': '63750'},\n",
       " {'link': 'http://music.163.com/song?id=399342705',\n",
       "  'name': '外面的妞',\n",
       "  'song_id': '399342705'},\n",
       " {'link': 'http://music.163.com/song?id=63785',\n",
       "  'name': '世界的末日',\n",
       "  'song_id': '63785'},\n",
       " {'link': 'http://music.163.com/song?id=399342706',\n",
       "  'name': '金色早晨',\n",
       "  'song_id': '399342706'},\n",
       " {'link': 'http://music.163.com/song?id=399343721',\n",
       "  'name': '滚动的蛋',\n",
       "  'song_id': '399343721'},\n",
       " {'link': 'http://music.163.com/song?id=399342707',\n",
       "  'name': '浑水湖漫步',\n",
       "  'song_id': '399342707'},\n",
       " {'link': 'http://music.163.com/song?id=399343720',\n",
       "  'name': '酷瓜树',\n",
       "  'song_id': '399343720'},\n",
       " {'link': 'http://music.163.com/song?id=63733',\n",
       "  'name': '流浪的歌手',\n",
       "  'song_id': '63733'},\n",
       " {'link': 'http://music.163.com/song?id=63767',\n",
       "  'name': '谁、谁、谁',\n",
       "  'song_id': '63767'},\n",
       " {'link': 'http://music.163.com/song?id=63770',\n",
       "  'name': '梦中的倾诉',\n",
       "  'song_id': '63770'},\n",
       " {'link': 'http://music.163.com/song?id=63741',\n",
       "  'name': '分手的时候',\n",
       "  'song_id': '63741'},\n",
       " {'link': 'http://music.163.com/song?id=63788',\n",
       "  'name': '生活不能没有你',\n",
       "  'song_id': '63788'},\n",
       " {'link': 'http://music.163.com/song?id=29718879',\n",
       "  'name': '美人计',\n",
       "  'song_id': '29718879'},\n",
       " {'link': 'http://music.163.com/song?id=63739',\n",
       "  'name': '拿错的雨伞',\n",
       "  'song_id': '63739'},\n",
       " {'link': 'http://music.163.com/song?id=63756',\n",
       "  'name': '为什么',\n",
       "  'song_id': '63756'},\n",
       " {'link': 'http://music.163.com/song?id=5236529',\n",
       "  'name': '你的眼泪是我的伤心',\n",
       "  'song_id': '5236529'},\n",
       " {'link': 'http://music.163.com/song?id=63744',\n",
       "  'name': '你不要走',\n",
       "  'song_id': '63744'},\n",
       " {'link': 'http://music.163.com/song?id=63773',\n",
       "  'name': '雪花飘',\n",
       "  'song_id': '63773'},\n",
       " {'link': 'http://music.163.com/song?id=63776',\n",
       "  'name': '艰难行',\n",
       "  'song_id': '63776'},\n",
       " {'link': 'http://music.163.com/song?id=63782',\n",
       "  'name': '星光满天',\n",
       "  'song_id': '63782'}]"
      ]
     },
     "execution_count": 10,
     "metadata": {},
     "output_type": "execute_result"
    }
   ],
   "source": [
    "index_artist(2111)   # 崔健"
   ]
  },
  {
   "cell_type": "code",
   "execution_count": 11,
   "metadata": {},
   "outputs": [
    {
     "data": {
      "text/plain": [
       "[{'link': 'http://music.163.com/song?id=26508186',\n",
       "  'name': '天空之城',\n",
       "  'song_id': '26508186'},\n",
       " {'link': 'http://music.163.com/song?id=25867002',\n",
       "  'name': '关于郑州的记忆',\n",
       "  'song_id': '25867002'},\n",
       " {'link': 'http://music.163.com/song?id=26508240',\n",
       "  'name': '梵高先生',\n",
       "  'song_id': '26508240'},\n",
       " {'link': 'http://music.163.com/song?id=26508242',\n",
       "  'name': '你离开了南京，从此没有人和我说话',\n",
       "  'song_id': '26508242'},\n",
       " {'link': 'http://music.163.com/song?id=26523120',\n",
       "  'name': '和你在一起',\n",
       "  'song_id': '26523120'},\n",
       " {'link': 'http://music.163.com/song?id=26508232',\n",
       "  'name': '山阴路的夏天',\n",
       "  'song_id': '26508232'},\n",
       " {'link': 'http://music.163.com/song?id=26522011',\n",
       "  'name': '米店',\n",
       "  'song_id': '26522011'},\n",
       " {'link': 'http://music.163.com/song?id=29724295',\n",
       "  'name': '热河',\n",
       "  'song_id': '29724295'},\n",
       " {'link': 'http://music.163.com/song?id=29724292',\n",
       "  'name': '定西',\n",
       "  'song_id': '29724292'},\n",
       " {'link': 'http://music.163.com/song?id=26353044',\n",
       "  'name': '忽然',\n",
       "  'song_id': '26353044'},\n",
       " {'link': 'http://music.163.com/song?id=435948318',\n",
       "  'name': '送别',\n",
       "  'song_id': '435948318'},\n",
       " {'link': 'http://music.163.com/song?id=26508228',\n",
       "  'name': '寻找',\n",
       "  'song_id': '26508228'},\n",
       " {'link': 'http://music.163.com/song?id=28406900',\n",
       "  'name': '和你在一起2013版[Live] - (Be\\xa0With\\xa0You)',\n",
       "  'song_id': '28406900'},\n",
       " {'link': 'http://music.163.com/song?id=34200930',\n",
       "  'name': '你离开了南京，从此没有人和我说话\\xa02015现场版',\n",
       "  'song_id': '34200930'},\n",
       " {'link': 'http://music.163.com/song?id=30212877',\n",
       "  'name': '墙上的向日葵(2014i/O版)',\n",
       "  'song_id': '30212877'},\n",
       " {'link': 'http://music.163.com/song?id=34200934',\n",
       "  'name': '热河\\xa02015现场版',\n",
       "  'song_id': '34200934'},\n",
       " {'link': 'http://music.163.com/song?id=30967318',\n",
       "  'name': '鸵鸟&天空之城&我们不能失去信仰(2014i/O版)',\n",
       "  'song_id': '30967318'},\n",
       " {'link': 'http://music.163.com/song?id=26508184',\n",
       "  'name': '结婚',\n",
       "  'song_id': '26508184'},\n",
       " {'link': 'http://music.163.com/song?id=28590174',\n",
       "  'name': '谁他妈没织过毛衣',\n",
       "  'song_id': '28590174'},\n",
       " {'link': 'http://music.163.com/song?id=26508235',\n",
       "  'name': '杭州',\n",
       "  'song_id': '26508235'},\n",
       " {'link': 'http://music.163.com/song?id=26522009',\n",
       "  'name': '听妈妈讲那过去的事情',\n",
       "  'song_id': '26522009'},\n",
       " {'link': 'http://music.163.com/song?id=26522014',\n",
       "  'name': '再见',\n",
       "  'song_id': '26522014'},\n",
       " {'link': 'http://music.163.com/song?id=26508244',\n",
       "  'name': '想起了她',\n",
       "  'song_id': '26508244'},\n",
       " {'link': 'http://music.163.com/song?id=478490652',\n",
       "  'name': '回答',\n",
       "  'song_id': '478490652'},\n",
       " {'link': 'http://music.163.com/song?id=26508183',\n",
       "  'name': '苍井空',\n",
       "  'song_id': '26508183'},\n",
       " {'link': 'http://music.163.com/song?id=26508205',\n",
       "  'name': '被禁忌的游戏',\n",
       "  'song_id': '26508205'},\n",
       " {'link': 'http://music.163.com/song?id=424474911',\n",
       "  'name': '黑色信封\\xa0(2016\\xa0unplugged)',\n",
       "  'song_id': '424474911'},\n",
       " {'link': 'http://music.163.com/song?id=435948312',\n",
       "  'name': '兰花草',\n",
       "  'song_id': '435948312'},\n",
       " {'link': 'http://music.163.com/song?id=26523123',\n",
       "  'name': '妈妈',\n",
       "  'song_id': '26523123'},\n",
       " {'link': 'http://music.163.com/song?id=26508230',\n",
       "  'name': '门',\n",
       "  'song_id': '26508230'},\n",
       " {'link': 'http://music.163.com/song?id=424474922',\n",
       "  'name': '春末的南方城市\\xa0(2016\\xa0unplugged)',\n",
       "  'song_id': '424474922'},\n",
       " {'link': 'http://music.163.com/song?id=424477861',\n",
       "  'name': '鸵鸟\\xa0(2016\\xa0unplugged)',\n",
       "  'song_id': '424477861'},\n",
       " {'link': 'http://music.163.com/song?id=478490647',\n",
       "  'name': '尽头',\n",
       "  'song_id': '478490647'},\n",
       " {'link': 'http://music.163.com/song?id=478490649',\n",
       "  'name': '铅笔',\n",
       "  'song_id': '478490649'},\n",
       " {'link': 'http://music.163.com/song?id=435948315',\n",
       "  'name': 'Hey\\xa0Jude',\n",
       "  'song_id': '435948315'},\n",
       " {'link': 'http://music.163.com/song?id=478491639',\n",
       "  'name': '序曲',\n",
       "  'song_id': '478491639'},\n",
       " {'link': 'http://music.163.com/song?id=26508239',\n",
       "  'name': '董卓瑶',\n",
       "  'song_id': '26508239'},\n",
       " {'link': 'http://music.163.com/song?id=29724294',\n",
       "  'name': '不多',\n",
       "  'song_id': '29724294'},\n",
       " {'link': 'http://music.163.com/song?id=29724291',\n",
       "  'name': '鼠说',\n",
       "  'song_id': '29724291'},\n",
       " {'link': 'http://music.163.com/song?id=26508221',\n",
       "  'name': '九月',\n",
       "  'song_id': '26508221'},\n",
       " {'link': 'http://music.163.com/song?id=435948316',\n",
       "  'name': '采蘑菇的小姑娘',\n",
       "  'song_id': '435948316'},\n",
       " {'link': 'http://music.163.com/song?id=406072281',\n",
       "  'name': '普希金\\xa0(2015动静版)',\n",
       "  'song_id': '406072281'},\n",
       " {'link': 'http://music.163.com/song?id=440411394',\n",
       "  'name': '一头偶像 - (A\\xa0Piece\\xa0of\\xa0Idol)',\n",
       "  'song_id': '440411394'},\n",
       " {'link': 'http://music.163.com/song?id=478491644',\n",
       "  'name': '大象',\n",
       "  'song_id': '478491644'},\n",
       " {'link': 'http://music.163.com/song?id=31311404',\n",
       "  'name': '梵高先生\\xa02015伴奏版',\n",
       "  'song_id': '31311404'},\n",
       " {'link': 'http://music.163.com/song?id=26508182',\n",
       "  'name': '意味',\n",
       "  'song_id': '26508182'},\n",
       " {'link': 'http://music.163.com/song?id=34200634',\n",
       "  'name': '虎口脱险',\n",
       "  'song_id': '34200634'},\n",
       " {'link': 'http://music.163.com/song?id=29724293',\n",
       "  'name': '看见',\n",
       "  'song_id': '29724293'},\n",
       " {'link': 'http://music.163.com/song?id=25867005',\n",
       "  'name': '路',\n",
       "  'song_id': '25867005'},\n",
       " {'link': 'http://music.163.com/song?id=440464357',\n",
       "  'name': '你好明天 - (Ciao\\xa0Tomorrow)',\n",
       "  'song_id': '440464357'}]"
      ]
     },
     "execution_count": 11,
     "metadata": {},
     "output_type": "execute_result"
    }
   ],
   "source": [
    "index_artist(3681)    # 李志"
   ]
  },
  {
   "cell_type": "markdown",
   "metadata": {},
   "source": [
    "## Crawler for lyric of each song"
   ]
  },
  {
   "cell_type": "code",
   "execution_count": 12,
   "metadata": {},
   "outputs": [],
   "source": [
    "driver = webdriver.Chrome()\n",
    "driver.get('http://music.163.com/#/song?id=63692')"
   ]
  },
  {
   "cell_type": "code",
   "execution_count": 13,
   "metadata": {},
   "outputs": [],
   "source": [
    "frames = driver.find_elements_by_tag_name('iframe')"
   ]
  },
  {
   "cell_type": "code",
   "execution_count": 14,
   "metadata": {},
   "outputs": [],
   "source": [
    "driver.switch_to_frame(frames[0])"
   ]
  },
  {
   "cell_type": "code",
   "execution_count": 15,
   "metadata": {
    "scrolled": true
   },
   "outputs": [],
   "source": [
    "lyric_content_id = 'lyric-content'\n",
    "lyric_content = driver.find_element_by_id(lyric_content_id)"
   ]
  },
  {
   "cell_type": "code",
   "execution_count": 16,
   "metadata": {},
   "outputs": [],
   "source": [
    "base_lyric = lyric_content.text"
   ]
  },
  {
   "cell_type": "code",
   "execution_count": 17,
   "metadata": {},
   "outputs": [],
   "source": [
    "more_content_id = 'flag_more'\n",
    "more_content = lyric_content.find_element_by_id(more_content_id)\n",
    "driver.execute_script(\"arguments[0].setAttribute('class','')\", more_content)\n",
    "more_content.get_attribute('class')\n",
    "more_lyric = more_content.text"
   ]
  },
  {
   "cell_type": "code",
   "execution_count": 18,
   "metadata": {
    "scrolled": false
   },
   "outputs": [
    {
     "name": "stdout",
     "output_type": "stream",
     "text": [
      "=====\n",
      "我独自走过你身旁 并没有话要对你讲\n",
      "我不敢抬头看着你的 噢...脸庞.\n",
      "你问我要去向何方 我指着大海的方向\n",
      "你的惊奇像是给我 噢...赞扬.\n",
      "你问我要去向何方 我指着大海的方向\n",
      "你问我要去向何方 我指着大海的方向\n",
      "你带我走进你的花房 我无法逃脱花的迷香\n",
      "我不知不觉忘记了 噢...方向\n",
      "你说我世上最坚强 我说你世上最善良\n",
      "我不知不觉已和花儿 噢...一样\n",
      "你说我世上最坚强 我说你世上最善良\n",
      "你说我世上最坚强 我说你世上最善良\n",
      "你要我留在这地方 你要我和它们一样\n",
      "我看着你默默地说 噢...不能这样\n",
      "我想要回到老地方 我想要走在老路上\n",
      "这时我才知离不开你! 噢...姑娘!\n",
      "我就要回到老地方 我就要走在老路上\n",
      "我明知我已离不开你! 噢...姑娘!\n",
      "我就要回到老地方 我就要走在老路上\n",
      "我明知我已离不开你! 噢...姑娘!\n",
      "我就要回到老地方 我就要走在老路上\n",
      "我明知我已离不开你! 噢...姑娘!\n",
      "我就要回到老地方 我就要走在老路上\n",
      "我明知我已离不开你! 噢...姑娘!\n"
     ]
    }
   ],
   "source": [
    "lyric_lines = base_lyric.split('\\n') + more_lyric.split('\\n')\n",
    "lyric_lines_clean = []\n",
    "for line in lyric_lines:\n",
    "    if (line[:2] == '作词') or (line[:2] == '作曲') or (line == '展开'):\n",
    "        # print('removing:', line)\n",
    "        continue\n",
    "    lyric_lines_clean.append(line)\n",
    "lyric_lines_clean = [l for l in lyric_lines_clean if len(l) > 0]\n",
    "full_lyric = '\\n'.join(lyric_lines_clean)\n",
    "print('=====')\n",
    "print(full_lyric)"
   ]
  },
  {
   "cell_type": "code",
   "execution_count": 19,
   "metadata": {},
   "outputs": [],
   "source": [
    "driver.close()"
   ]
  },
  {
   "cell_type": "markdown",
   "metadata": {},
   "source": [
    "### Refactored code"
   ]
  },
  {
   "cell_type": "code",
   "execution_count": null,
   "metadata": {},
   "outputs": [],
   "source": []
  }
 ],
 "metadata": {
  "kernelspec": {
   "display_name": "Python 3",
   "language": "python",
   "name": "python3"
  },
  "language_info": {
   "codemirror_mode": {
    "name": "ipython",
    "version": 3
   },
   "file_extension": ".py",
   "mimetype": "text/x-python",
   "name": "python",
   "nbconvert_exporter": "python",
   "pygments_lexer": "ipython3",
   "version": "3.5.2"
  }
 },
 "nbformat": 4,
 "nbformat_minor": 2
}
